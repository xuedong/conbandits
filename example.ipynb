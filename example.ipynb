{
 "cells": [
  {
   "cell_type": "code",
   "execution_count": 1,
   "metadata": {},
   "outputs": [
    {
     "name": "stderr",
     "output_type": "stream",
     "text": [
      "\n",
      "Attaching package: ‘dplyr’\n",
      "\n",
      "The following objects are masked from ‘package:Hmisc’:\n",
      "\n",
      "    combine, src, summarize\n",
      "\n",
      "The following objects are masked from ‘package:stats’:\n",
      "\n",
      "    filter, lag\n",
      "\n",
      "The following objects are masked from ‘package:base’:\n",
      "\n",
      "    intersect, setdiff, setequal, union\n",
      "\n",
      "\n",
      "Attaching package: ‘MASS’\n",
      "\n",
      "The following object is masked from ‘package:dplyr’:\n",
      "\n",
      "    select\n",
      "\n"
     ]
    }
   ],
   "source": [
    "library(dplyr)\n",
    "library(broom)\n",
    "library(MASS)\n",
    "library(ggplot2)\n",
    "library(purrr)\n",
    "library(tidyr)\n",
    "library(knitr)"
   ]
  },
  {
   "cell_type": "code",
   "execution_count": 4,
   "metadata": {},
   "outputs": [],
   "source": [
    "# horizon\n",
    "n <- 10000\n",
    "\n",
    "# reproducibility\n",
    "set.seed(2)\n",
    "\n",
    "# data simulation\n",
    "data <- data_frame(\n",
    "  feature_1 = sample(c(0,1), n, prob=c(0.6, 0.4), replace=T),\n",
    "  feature_2 = sample(c(0,1), n, prob=c(0.7, 0.3), replace=T),\n",
    "  arm = sample(c(1:3), n, replace=T),\n",
    "  f1_coeff = case_when(arm == 1 ~ .5, arm == 2 ~ .1, arm == 3 ~ .1),\n",
    "  f2_coeff = case_when(arm == 1 ~ .1, arm == 2 ~ .1, arm == 3 ~ .4),\n",
    "  baseline = case_when(arm == 1 ~ .1, arm == 2 ~ .2, arm == 3 ~ .1),\n",
    "  rand_draw = runif(n) # uniformly pick n numbers \n",
    ") %>%\n",
    "  mutate(factor = baseline + f1_coeff * feature_1 + f2_coeff * feature_2) %>%\n",
    "  mutate(click = ifelse(factor >= rand_draw, 1, 0))"
   ]
  },
  {
   "cell_type": "code",
   "execution_count": 5,
   "metadata": {},
   "outputs": [
    {
     "data": {
      "text/plain": [
       "\n",
       "\n",
       "| arm| feature_1| feature_2|   ct| reward| mean_clk_rt|\n",
       "|---:|---------:|---------:|----:|------:|-----------:|\n",
       "|   1|         1|         0|  930|    556|   0.5978495|\n",
       "|   1|         1|         1|  420|    291|   0.6928571|\n",
       "|   2|         0|         0| 1345|    257|   0.1910781|\n",
       "|   3|         0|         1|  601|    299|   0.4975042|"
      ]
     },
     "metadata": {},
     "output_type": "display_data"
    }
   ],
   "source": [
    "data %>%\n",
    "  group_by(arm, feature_1, feature_2) %>%\n",
    "  summarise(ct = n(), reward = sum(click), mean_clk_rt = mean(click)) %>%\n",
    "  group_by(feature_1, feature_2) %>%\n",
    "  filter(mean_clk_rt == max(mean_clk_rt)) %>%\n",
    "  kable()"
   ]
  },
  {
   "cell_type": "code",
   "execution_count": 7,
   "metadata": {
    "collapsed": true
   },
   "outputs": [],
   "source": [
    "alpha = 3 # alpha set manually here\n",
    "\n",
    "# ucb estimates\n",
    "ucb <- function(inverse_cov_matrix, reward_vector_times_design_matrix, context_vector, alpha){\n",
    "  theta_hat <- inverse_cov_matrix %*% reward_vector_times_design_matrix\n",
    "  ucb_estimate <- t(theta_hat) %*% context_vector + \n",
    "    alpha * sqrt(t(context_vector) %*% inverse_cov_matrix %*% context_vector)\n",
    "  return(ucb_estimate)\n",
    "}\n",
    "\n",
    "# updates the covariate matrix\n",
    "update_cov_matrix <- function(cov_matrix, context_vector){\n",
    "  return(cov_matrix + context_vector %*% t(context_vector))\n",
    "}\n",
    "\n",
    "# updates b_a from above\n",
    "update_reward_vector_times_design_matrix <- function(reward_vector_times_design_matrix, reward, context_vector){\n",
    "  return(reward_vector_times_design_matrix + reward * context_vector)\n",
    "}"
   ]
  },
  {
   "cell_type": "code",
   "execution_count": 8,
   "metadata": {
    "collapsed": true
   },
   "outputs": [],
   "source": [
    "arms <- c(1:3) # 3 arms\n",
    "d <- 2 # 2 features\n",
    "\n",
    "# initialization\n",
    "arm_choice <- c()\n",
    "cov_matrix <- list()\n",
    "reward_vector_times_design_matrix <- list() # this corresponds to b_a above\n",
    "ucb_estimate <- matrix(0, n, length(arms))"
   ]
  },
  {
   "cell_type": "code",
   "execution_count": 13,
   "metadata": {},
   "outputs": [],
   "source": [
    "# disjoint model\n",
    "for (t in 1:n){\n",
    "  context <- data[t,]\n",
    "  for (a in arms){\n",
    "    if(t == 1){\n",
    "      cov_matrix[[a]] <- diag(d)\n",
    "      reward_vector_times_design_matrix[[a]] <- rep(0, d)\n",
    "    }\n",
    "    inverse_cov_matrix <- ginv(cov_matrix[[a]])\n",
    "    ucb_estimate[t, a] <- ucb(inverse_cov_matrix, \n",
    "                    as.matrix(reward_vector_times_design_matrix[[a]]), \n",
    "                    as.matrix(c(context$feature_1, context$feature_2)), \n",
    "                    alpha)\n",
    "  }\n",
    "  trial_arm <- which(ucb_estimate[t,] == max(ucb_estimate[t,]))\n",
    "  if(length(trial_arm) > 1){\n",
    "    trial_arm <- sample(trial_arm, 1)\n",
    "  }\n",
    "  if(trial_arm == context$arm){\n",
    "    arm_choice[t] <- trial_arm\n",
    "  }else{\n",
    "    arm_choice[t] <- t*10 # need to do this so I can filter out unused observations from bandit dataset\n",
    "    next\n",
    "  }\n",
    "  cov_matrix[[arm_choice[t]]] <- update_cov_matrix(cov_matrix[[arm_choice[t]]], \n",
    "                                                as.matrix(c(context$feature_1, context$feature_2)))\n",
    "  reward_vector_times_design_matrix[[arm_choice[t]]] <- update_reward_vector_times_design_matrix(\n",
    "    as.matrix(reward_vector_times_design_matrix[[arm_choice[t]]]),\n",
    "    context$click,\n",
    "    as.matrix(c(context$feature_1, context$feature_2))\n",
    "  )\n",
    "}"
   ]
  },
  {
   "cell_type": "code",
   "execution_count": 15,
   "metadata": {},
   "outputs": [],
   "source": [
    "data$arm_choice <- arm_choice\n",
    "\n",
    "# create a function to apply to the list columns of the bandit data\n",
    "lm_fun <- function(dat){\n",
    "  return(tidy(summary(lm(click ~ 0 + feature_1 + feature_2, dat))))\n",
    "}\n",
    "\n",
    "# apply the lm function to each arm's data from the original dataset\n",
    "data %>%\n",
    "  nest(-arm) %>%\n",
    "  mutate(model = map(data, lm_fun)) %>%\n",
    "  unnest(model) %>%\n",
    "  dplyr::select(arm, term, data_estimate = estimate) %>%\n",
    "  arrange(arm) -> coefficients_from_data\n",
    "\n",
    "# calculate the coefficients for each of the arms using the bandit data\n",
    "map_df(arms, function(i) data_frame(arm = i, term = c(\"feature_1\", \"feature_2\"), bandit_estimate = as.vector(ginv(cov_matrix[[i]]) %*% reward_vector_times_design_matrix[[i]]))) -> coefficients_from_bandit\n",
    "\n",
    "# join them together and see how different they are\n",
    "coefficients_from_data %>%\n",
    "  inner_join(coefficients_from_bandit, by = c(\"arm\", \"term\")) %>%\n",
    "  mutate(percent_difference = 100*((bandit_estimate - data_estimate)/data_estimate)) -> estimate_data"
   ]
  },
  {
   "cell_type": "code",
   "execution_count": 16,
   "metadata": {},
   "outputs": [
    {
     "data": {
      "text/plain": [
       "\n",
       "\n",
       "| arm|term      | data_estimate| bandit_estimate| percent_difference|\n",
       "|---:|:---------|-------------:|---------------:|------------------:|\n",
       "|   1|feature_1 |     0.5746100|       0.6001210|           4.439695|\n",
       "|   1|feature_2 |     0.1697058|       0.1011976|         -40.368813|\n",
       "|   2|feature_1 |     0.2663637|       0.2396774|         -10.018762|\n",
       "|   2|feature_2 |     0.2367721|       0.2498560|           5.525945|\n",
       "|   3|feature_1 |     0.1792482|       0.0321503|         -82.063809|\n",
       "|   3|feature_2 |     0.4627396|       0.4933666|           6.618618|"
      ]
     },
     "metadata": {},
     "output_type": "display_data"
    }
   ],
   "source": [
    "kable(estimate_data)"
   ]
  },
  {
   "cell_type": "code",
   "execution_count": 18,
   "metadata": {},
   "outputs": [
    {
     "data": {},
     "metadata": {},
     "output_type": "display_data"
    },
    {
     "data": {
      "image/png": "[encoded data removed]",
      "text/plain": [
       "plot without title"
      ]
     },
     "metadata": {},
     "output_type": "display_data"
    }
   ],
   "source": [
    "data %>%\n",
    "  filter(arm_choice < 10) %>%\n",
    "  group_by(feature_1, feature_2, arm_choice) %>%\n",
    "  mutate(total_reward = cumsum(click), trial = c(1:n())) %>%\n",
    "  mutate(avg_reward = total_reward/trial) %>%\n",
    "  ggplot(aes(x = trial, y = avg_reward, color = factor(arm), group = factor(arm))) +\n",
    "  geom_path() +\n",
    "  facet_wrap(~feature_2 + feature_1, scales = \"free\", labeller = \"label_both\") +\n",
    "  theme_bw() +\n",
    "  scale_colour_grey()"
   ]
  },
  {
   "cell_type": "code",
   "execution_count": null,
   "metadata": {
    "collapsed": true
   },
   "outputs": [],
   "source": []
  }
 ],
 "metadata": {
  "kernelspec": {
   "display_name": "R",
   "language": "R",
   "name": "ir"
  },
  "language_info": {
   "codemirror_mode": "r",
   "file_extension": ".r",
   "mimetype": "text/x-r-source",
   "name": "R",
   "pygments_lexer": "r",
   "version": "3.4.3"
  }
 },
 "nbformat": 4,
 "nbformat_minor": 2
}
